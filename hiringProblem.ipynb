{
 "cells": [
  {
   "cell_type": "code",
   "execution_count": 21,
   "metadata": {},
   "outputs": [
    {
     "name": "stdout",
     "output_type": "stream",
     "text": [
      "For Normal Hiring:\n",
      "[[1, 1], [2, 2], [3, 3], [4, 4], [5, 5]]\n",
      "5\n",
      "For Random Hiring:\n",
      "[[1, 1], [3, 3], [5, 5], [4, 4], [2, 2]]\n",
      "3\n"
     ]
    }
   ],
   "source": [
    "import random as rd\n",
    "candidatesList = [[1,1],[2,2],[3,3],[4,4],[5,5]]\n",
    "\n",
    "print(\"For Normal Hiring:\")\n",
    "print(candidatesList)\n",
    "hireCount = 1\n",
    "currentHiredCandidate = candidatesList[0]\n",
    "for i in candidatesList[1:]:\n",
    "    if i[1] > currentHiredCandidate[1]:\n",
    "        hireCount += 1 \n",
    "        currentHiredCandidate = i\n",
    "    else:\n",
    "        pass\n",
    "\n",
    "print(hireCount)\n",
    "\n",
    "print(\"For Random Hiring:\")\n",
    "rd.shuffle(candidatesList)\n",
    "print(candidatesList)\n",
    "hireCount = 1\n",
    "currentHiredCandidate = candidatesList[0]\n",
    "for i in candidatesList[1:]:\n",
    "    if i[1] > currentHiredCandidate[1]:\n",
    "        hireCount += 1 \n",
    "        currentHiredCandidate = i\n",
    "    else:\n",
    "        pass\n",
    "print(hireCount)\n",
    "\n"
   ]
  }
 ],
 "metadata": {
  "interpreter": {
   "hash": "4967e6ae66cdbca97a956efb29231a0cc91c8b76a2ce84b79640903ac8236afa"
  },
  "kernelspec": {
   "display_name": "Python 3.9.6 64-bit",
   "language": "python",
   "name": "python3"
  },
  "language_info": {
   "codemirror_mode": {
    "name": "ipython",
    "version": 3
   },
   "file_extension": ".py",
   "mimetype": "text/x-python",
   "name": "python",
   "nbconvert_exporter": "python",
   "pygments_lexer": "ipython3",
   "version": "3.9.6"
  },
  "orig_nbformat": 4
 },
 "nbformat": 4,
 "nbformat_minor": 2
}
